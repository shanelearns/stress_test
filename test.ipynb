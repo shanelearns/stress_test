{
 "cells": [
  {
   "cell_type": "code",
   "execution_count": null,
   "id": "4d5e0b72-f2f3-45d3-8186-3c7f0498179c",
   "metadata": {},
   "outputs": [
    {
     "name": "stdout",
     "output_type": "stream",
     "text": [
      "Requirement already satisfied: numpy in /Applications/miniconda3/lib/python3.12/site-packages (2.2.4)\n"
     ]
    }
   ],
   "source": [
    "!pip install numpy\n",
    "import numpy as np\n",
    "import time\n",
    "\n",
    "size = 30000  # Adjust based on system capability\n",
    "\n",
    "A = np.random.rand(size, size)\n",
    "B = np.random.rand(size, size)\n",
    "\n",
    "start = time.time()\n",
    "C = np.dot(A, B)\n",
    "end = time.time()\n",
    "\n",
    "print(f\"Matrix multiplication took {end - start:.2f} seconds\")"
   ]
  },
  {
   "cell_type": "code",
   "execution_count": null,
   "id": "057be78a-8d4f-4066-9539-7bd1c2c03677",
   "metadata": {},
   "outputs": [],
   "source": [
    "import time\n",
    "from concurrent.futures import ThreadPoolExecutor\n",
    "import math\n",
    "\n",
    "def cpu_task(n):\n",
    "    count = 0\n",
    "    for i in range(1, n):\n",
    "        count += math.sqrt(i)\n",
    "    return count\n",
    "\n",
    "start = time.time()\n",
    "\n",
    "with ThreadPoolExecutor() as executor:\n",
    "    results = list(executor.map(cpu_task, [10**6]*8))  # Adjust based on core count\n",
    "\n",
    "end = time.time()\n",
    "print(f\"Multithreaded CPU workload took {end - start:.2f} seconds\")\n"
   ]
  },
  {
   "cell_type": "code",
   "execution_count": null,
   "id": "71b67fa7-fdf6-4891-a781-ec38898b87ab",
   "metadata": {},
   "outputs": [],
   "source": [
    "import torch\n",
    "import time\n",
    "import torchvision.models as models\n",
    "\n",
    "device = torch.device(\"cuda\" if torch.cuda.is_available() else \"mps\" if torch.backends.mps.is_available() else \"cpu\")\n",
    "\n",
    "model = models.resnet50(pretrained=True).to(device)\n",
    "model.eval()\n",
    "\n",
    "input_data = torch.randn(32, 3, 224, 224).to(device)\n",
    "\n",
    "start = time.time()\n",
    "with torch.no_grad():\n",
    "    for _ in range(1000):\n",
    "        _ = model(input_data)\n",
    "end = time.time()\n",
    "\n",
    "print(f\"ResNet50 inference (10 batches) took {end - start:.2f} seconds on {device}\")\n"
   ]
  },
  {
   "cell_type": "code",
   "execution_count": null,
   "id": "2369aa7e-feb5-49af-9a3b-8f7c04eef42b",
   "metadata": {},
   "outputs": [],
   "source": [
    "from PIL import Image, ImageFilter\n",
    "import time\n",
    "\n",
    "img = Image.new(\"RGB\", (4000, 4000), color=\"red\")\n",
    "\n",
    "start = time.time()\n",
    "for _ in range(500):\n",
    "    img = img.filter(ImageFilter.GaussianBlur(2))\n",
    "end = time.time()\n",
    "\n",
    "print(f\"20 Gaussian filters took {end - start:.2f} seconds\")\n"
   ]
  },
  {
   "cell_type": "code",
   "execution_count": null,
   "id": "d6d79960-450c-406d-9ba7-a602a2c4f525",
   "metadata": {},
   "outputs": [],
   "source": [
    "import gzip\n",
    "import time\n",
    "import os\n",
    "\n",
    "data = b\"A\" * 1000000000  # 100 MB\n",
    "\n",
    "start = time.time()\n",
    "with gzip.open(\"test.gz\", \"wb\") as f:\n",
    "    f.write(data)\n",
    "compress_time = time.time()\n",
    "\n",
    "with gzip.open(\"test.gz\", \"rb\") as f:\n",
    "    _ = f.read()\n",
    "decompress_time = time.time()\n",
    "\n",
    "print(f\"Compression took {compress_time - start:.2f} sec, Decompression took {decompress_time - compress_time:.2f} sec\")\n",
    "os.remove(\"test.gz\")\n"
   ]
  }
 ],
 "metadata": {
  "kernelspec": {
   "display_name": "Python 3 (ipykernel)",
   "language": "python",
   "name": "python3"
  },
  "language_info": {
   "codemirror_mode": {
    "name": "ipython",
    "version": 3
   },
   "file_extension": ".py",
   "mimetype": "text/x-python",
   "name": "python",
   "nbconvert_exporter": "python",
   "pygments_lexer": "ipython3",
   "version": "3.12.9"
  }
 },
 "nbformat": 4,
 "nbformat_minor": 5
}
